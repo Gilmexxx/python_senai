{
 "cells": [
  {
   "cell_type": "code",
   "execution_count": null,
   "id": "0bf600b6-0374-442c-9477-130b84424854",
   "metadata": {},
   "outputs": [],
   "source": []
  }
 ],
 "metadata": {
  "kernelspec": {
   "display_name": "",
   "name": ""
  },
  "language_info": {
   "name": ""
  }
 },
 "nbformat": 4,
 "nbformat_minor": 5
}
