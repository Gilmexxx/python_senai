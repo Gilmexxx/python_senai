{
 "cells": [
  {
   "cell_type": "markdown",
   "metadata": {},
   "source": [
    "# relambrando varivaeis\n",
    "\n",
    "tipo:\n",
    "    - int()\n",
    "    - str()\n",
    "    - float()\n",
    "    - bool()\n",
    "    - list(\n",
    "    - tuple()\n",
    "    - dict()\n",
    "\n",
    "# () parenteses representa uma TUPLA\n",
    "# {} chaves representa um DICIONARIO de dados\n",
    "# [] representa uma lista de dados\n",
    "\n",
    "# Lista ([]):\n",
    "Mutável: Você pode alterar, adicionar ou remover elementos após a criação.\n",
    "Ordenada: Os elementos têm uma ordem definida e podem ser acessados por índices.\n",
    "Permite duplicatas: Itens duplicados são permitidos.\n",
    "\n",
    "Sintaxe: lista = [1, 2, 3, 4]\n",
    "\n",
    "#Tupla (()):\n",
    "Imutável: Após a criação, os elementos não podem ser alterados.\n",
    "Ordenada: Os elementos têm uma ordem definida e podem ser acessados por índices.\n",
    "Permite duplicatas: Itens duplicados são permitidos.\n",
    "\n",
    "Sintaxe: tupla = (1, 2, 3, 4)\n",
    "\n",
    "# Dicionário ({}):\n",
    "Mutável: Você pode alterar, adicionar ou remover pares chave-valor após a criação.\n",
    "Não ordenado (até Python 3.6): A partir do Python 3.7, a ordem de inserção é mantida.\n",
    "Chaves únicas: Não permite chaves duplicadas, mas os valores podem ser duplicados.\n",
    "Acesso por chave: Em vez de índices, você acessa os valores pelas chaves.\n",
    "\n",
    "Sintaxe: dicionario = {'chave1': 'valor1', 'chave2': 'valor2'}\n"
   ]
  },
  {
   "cell_type": "code",
   "execution_count": 7,
   "metadata": {},
   "outputs": [
    {
     "name": "stdout",
     "output_type": "stream",
     "text": [
      "LISTA ['pera', 'morando', 'maça'] \n",
      "TUPLA ('gol', 'uno', 'fusca') \n",
      "DICIONARIO {'nome': 'Luciano', 'idade': 30, 'altura': 1.71} \n"
     ]
    }
   ],
   "source": [
    "numero = 1\n",
    "nome = 'Gilmar'\n",
    "numero_decimal = 10.9\n",
    "sera = True\n",
    "frutas = ['pera', 'morando', 'maça'] # [] lista de nome de frutas\n",
    "carros = ('gol', 'uno', 'fusca') # uma tupla de dados\n",
    "pessoa = {'nome':'Luciano', 'idade': 30, 'altura': 1.71}  # dicionario com chaves (nome, idade e altura) com valores keys ( Luciano, 30 e 1.171)\n",
    "\n",
    "print(f'LISTA {frutas} ')\n",
    "print(f'TUPLA {carros} ')\n",
    "print(f'DICIONARIO {pessoa} ')"
   ]
  },
  {
   "cell_type": "code",
   "execution_count": 13,
   "metadata": {},
   "outputs": [
    {
     "name": "stdout",
     "output_type": "stream",
     "text": [
      "O numero é: ['Musica eletronica a vida']\n",
      "O numero é: ['Musica eletronica a vida']\n",
      "O numero é: ['Musica eletronica a vida']\n",
      "O numero é: ['Musica eletronica a vida']\n",
      "O numero é: ['Musica eletronica a vida']\n"
     ]
    }
   ],
   "source": [
    "# laços\n",
    "\n",
    "numero = ['Musica eletronica a vida']\n",
    "\n",
    "for i in range(5): # 5 ja define o parametro de quantas vezes vai rodar o laço\n",
    "    print(f'O numero é: {numero}') # informa o numero 5x\n",
    "\n"
   ]
  },
  {
   "cell_type": "code",
   "execution_count": 9,
   "metadata": {},
   "outputs": [
    {
     "name": "stdout",
     "output_type": "stream",
     "text": [
      "Os nomes sao ('gilmar', 'brendo')\n",
      "Os nomes sao ('gilmar', 'brendo')\n"
     ]
    }
   ],
   "source": [
    "nomes = (\"gilmar\", 'brendo')\n",
    "vezes_repete = int(input('Quantas vezes vai repetir o laço?' ))\n",
    "\n",
    "for i in range(vezes_repete):\n",
    "      print(f'Os nomes sao {nomes}')"
   ]
  },
  {
   "cell_type": "code",
   "execution_count": 18,
   "metadata": {},
   "outputs": [
    {
     "name": "stdout",
     "output_type": "stream",
     "text": [
      "O cantador é: 1\n",
      "O cantador é: 2\n",
      "O cantador é: 3\n",
      "O cantador é: 4\n",
      "O cantador é: 5\n"
     ]
    }
   ],
   "source": [
    "contador = 1 # defino de onde ele vai começar\n",
    "while contador <= 5 :\n",
    "    print(f'O cantador é: {contador}')\n",
    "    contador += 1"
   ]
  },
  {
   "cell_type": "markdown",
   "metadata": {},
   "source": []
  },
  {
   "cell_type": "markdown",
   "metadata": {},
   "source": [
    "## Metods de string\n",
    "\n",
    "- upper # upper(): Converte todos os caracteres de uma string para maiúsculas\n",
    "- lower # lower(): Converte todos os caracteres de uma string para minúsculas\n",
    "- capitalize # capitalize(): Converte o primeiro caractere de uma string para maiúscula e os demais para minúsculas.\n",
    "- split # split(sep=None): Divide uma string em uma lista de substrings usando um separador especificado (ou espaços em branco por padrão).\n",
    "- strip # strip(): Remove espaços em branco do início e do fim de uma string\n",
    "- slice # Slice: Não é um método, mas uma técnica para obter uma parte de uma string usando a notação de fatiamento.\n",
    "- replace # replace(old, new): Substitui todas as ocorrências de uma substring por outra.\n",
    "- join # join(iterable): Junta os elementos de um iterável (como uma lista) em uma única string, usando uma string como separador.\n",
    "\n"
   ]
  },
  {
   "cell_type": "code",
   "execution_count": 49,
   "metadata": {},
   "outputs": [
    {
     "name": "stdout",
     "output_type": "stream",
     "text": [
      "gilmar silva santos\n",
      "Gilmar silva santos\n",
      "GILMAR SILVA SANTOS\n",
      "Gilmar Silva Santos\n",
      "Gilmar Silva Santos\n",
      "['Gilmar Silva Santos']\n",
      "G-i-l-m-a-r- -S-i-l-v-a- -S-a-n-t-o-s\n",
      "mar Silva \n"
     ]
    }
   ],
   "source": [
    "aluno = 'Gilmar Silva Santos'\n",
    "\n",
    "print(aluno.lower()) # deixa minusculo\n",
    "print(aluno.capitalize()) # deixa inicial maisculo\n",
    "print(aluno.upper()) # deixa tudo maisculo\n",
    "print(aluno.strip()) # remove espaços\n",
    "print(aluno.replace('Lopes', 'Nunes')) # substitui uma sequencia de caracter por outra\n",
    "print(aluno.split('-')) # divide um alista usando um epsaçador\n",
    "print('-'.join(aluno)) # cria uma string com o caracter desejado para separar\n",
    "print(aluno[3:13]) # corta a string no intervalo de caracteres fornecido"
   ]
  },
  {
   "cell_type": "code",
   "execution_count": null,
   "metadata": {},
   "outputs": [],
   "source": [
    "aluno = 'Gilmar Silva Santos'\n",
    "\n",
    "print(aluno.lower())\n",
    "print(aluno.capitalize())\n",
    "print(aluno.upper())\n",
    "print(aluno.strip())"
   ]
  },
  {
   "cell_type": "markdown",
   "metadata": {},
   "source": [
    "# Metodo de lista\n",
    "\n",
    "- append    # append(item): Adiciona um item ao final da lista\n",
    "- extend    # extend(iterable): Adiciona uma lista dentro de outra lista ao final da lista\n",
    "- insert    # insert(index, item): Insere um item em uma posição específica da lista\n",
    "- remove    # remove(item): Remove a primeira ocorrência de um item na lista\n",
    "- pop       # pop(index=-1): Remove e retorna o item na posição especificada (ou o último item, se nenhum índice for fornecido).\n",
    "- index     # index(item, start=0, end=len(lista)): Retorna o índice da primeira ocorrência do item na lista, dentro de um intervalo opcional.\n",
    "- del       # del lista [index]: Remove o item na posição especificada\n",
    "- sort      # sort(key=None, reverse=False): Ordena os itens da lista no local (in-place).\n",
    "- reverse   # reverse(): Inverte a ordem dos itens na lista no local (in-place\n",
    "\n",
    "\n"
   ]
  },
  {
   "cell_type": "code",
   "execution_count": 60,
   "metadata": {},
   "outputs": [
    {
     "name": "stdout",
     "output_type": "stream",
     "text": [
      "append ['notebook', 'smatphone', 'smart tv', 'fliperama']\n",
      "extend ['notebook', 'smatphone', 'smart tv', 'fliperama', 'sofa', 'mesa', 'puff']\n",
      "insert ['notebook', 'smatphone', 'smart tv', 'playstation 5', 'fliperama', 'sofa', 'mesa', 'puff']\n",
      "pop ['notebook', 'smatphone', 'smart tv', 'playstation 5', 'fliperama', 'sofa', 'mesa']\n",
      "pop(1) ['notebook', 'smart tv', 'playstation 5', 'fliperama', 'sofa', 'mesa']\n",
      "remove ['notebook', 'playstation 5', 'fliperama', 'sofa', 'mesa']\n",
      "index ['notebook', 'playstation 5', 'fliperama', 'sofa', 'mesa']\n",
      "sort ['fliperama', 'mesa', 'notebook', 'playstation 5', 'sofa']\n",
      "reverse ['sofa', 'playstation 5', 'notebook', 'mesa', 'fliperama']\n"
     ]
    }
   ],
   "source": [
    "produtos = ['notebook', 'smatphone', 'smart tv']\n",
    "\n",
    "produtos.append('fliperama') # append(item): Adiciona um item ao final da lista\n",
    "print(f'append', produtos)\n",
    "produtos.extend(['sofa', 'mesa', 'puff']) # extend(iterable): Adiciona uma lista dentro de outra lista ao final da lista\n",
    "print(f'extend', produtos)\n",
    "produtos.insert(3,'playstation 5') # insert(index, item): Insere um item em uma posição específica da lista\n",
    "print(f'insert', produtos)\n",
    "produtos.pop() # remove(item): Remove a ultima ocorrência de um item na lista\n",
    "print(f'pop', produtos) \n",
    "produtos.pop(1) # remove(item): Remove o item especificado na lista no caso o (1)\n",
    "print(f'pop(1)', produtos)\n",
    "produtos.remove('smart tv') # remove(item): Remove a primeira ocorrência de um item na lista\n",
    "print(f'remove', produtos)\n",
    "produtos.index('notebook') # index(item, start=0, end=len(lista)): Retorna o índice da primeira ocorrência do item na lista, dentro de um intervalo opcional.\n",
    "print(f'index', produtos)\n",
    "produtos.sort() # sort(key=None, reverse=False): Ordena os itens da lista no local (in-place).\n",
    "print(f'sort', produtos)\n",
    "produtos.reverse()\n",
    "print(f'reverse', produtos) # reverse(): Inverte a ordem dos itens na lista no local (in-place).\n",
    "\n"
   ]
  },
  {
   "cell_type": "markdown",
   "metadata": {},
   "source": []
  },
  {
   "cell_type": "markdown",
   "metadata": {},
   "source": []
  },
  {
   "cell_type": "markdown",
   "metadata": {},
   "source": [
    "## Relembrando FUNCOES\n",
    "\n",
    "Tipos:\n",
    " \n",
    "- funcao sem retorno\n",
    "- funcao com retorno\n",
    "- funcao com parametros\n",
    "- funcao sem parametros\n",
    "- funcao lambda\n",
    "- funcao com multiplos parametros\n",
    "    - parametros posicionais\n",
    "    - parametros nomeados\n",
    "\n",
    "\n"
   ]
  },
  {
   "cell_type": "code",
   "execution_count": 61,
   "metadata": {},
   "outputs": [],
   "source": [
    "# funcao sem retorno def - mais simples nao retorna nada\n",
    "\n",
    "def saudacao():\n",
    "    print(\"Ola boa tarde!\")\n",
    "\n"
   ]
  },
  {
   "cell_type": "code",
   "execution_count": 63,
   "metadata": {},
   "outputs": [
    {
     "name": "stdout",
     "output_type": "stream",
     "text": [
      "Ola boa tarde!\n"
     ]
    }
   ],
   "source": [
    "# funcao com retorno def - chamando a funcao pelo nome vai retornar o texto chamndo a funcao no final\n",
    "\n",
    "def saudacao():\n",
    "    print(\"Ola boa tarde!\")\n",
    "\n",
    "saudacao()"
   ]
  },
  {
   "cell_type": "code",
   "execution_count": 70,
   "metadata": {},
   "outputs": [],
   "source": [
    "# funcao com retorno somar\n",
    "\n",
    "def somar():\n",
    "    soma = 10 + 25\n",
    "    return soma\n",
    "\n",
    "print(somar())"
   ]
  },
  {
   "cell_type": "code",
   "execution_count": 83,
   "metadata": {},
   "outputs": [
    {
     "data": {
      "text/plain": [
       "13"
      ]
     },
     "execution_count": 83,
     "metadata": {},
     "output_type": "execute_result"
    }
   ],
   "source": [
    "# funcao com retorno somar passando parametros\n",
    "# lembre que em um mesmo arquivo eu nao posso usar nome de variaveis iguais - por isso estou usando soma2\n",
    "\n",
    "def somar2(numero1, numero2):\n",
    "    soma = numero1 + numero2\n",
    "    return soma # estou pedindo pra me retornar na tela a soma\n",
    "\n",
    "somar2(5,8) # aqui estou passando parametros \n"
   ]
  },
  {
   "cell_type": "code",
   "execution_count": null,
   "metadata": {},
   "outputs": [],
   "source": [
    "# funcao sem retorno def - mais simples nao retorna nada\n",
    "# funcao sem parametros\n",
    "\n",
    "def saudacao():\n",
    "    print(\"Ola boa tarde!\")"
   ]
  },
  {
   "cell_type": "code",
   "execution_count": 85,
   "metadata": {},
   "outputs": [
    {
     "data": {
      "text/plain": [
       "70"
      ]
     },
     "execution_count": 85,
     "metadata": {},
     "output_type": "execute_result"
    }
   ],
   "source": [
    "# funcao lambda - é resumir uma funcao em uma unica linha - usada mais para uma funcao simples ok. A nas complexa a gente nao usa o def\n",
    "# é a forma de fazer o def so que usando lambda - nunha linha so\n",
    "\n",
    "soma_lambda =  lambda numero1, numero2 : numero1 + numero2\n",
    "\n",
    "soma_lambda(50,20) # e ja informo os parametros"
   ]
  },
  {
   "cell_type": "code",
   "execution_count": 104,
   "metadata": {},
   "outputs": [],
   "source": [
    "# funcao com multi parametros (argumentos) posicionados\n",
    "\n",
    "def somar3(*numero): # quanto é uma * eu so passo o valor\n",
    "    resultado = sum(numero)\n",
    "    return resultado"
   ]
  },
  {
   "cell_type": "code",
   "execution_count": 96,
   "metadata": {},
   "outputs": [
    {
     "data": {
      "text/plain": [
       "101"
      ]
     },
     "execution_count": 96,
     "metadata": {},
     "output_type": "execute_result"
    }
   ],
   "source": [
    "somar3(1,12,25,26,27,10) # tem uma lista de numeros mutaveis. Na tupla a lista nao se muda\n"
   ]
  },
  {
   "cell_type": "code",
   "execution_count": 105,
   "metadata": {},
   "outputs": [
    {
     "data": {
      "text/plain": [
       "40"
      ]
     },
     "execution_count": 105,
     "metadata": {},
     "output_type": "execute_result"
    }
   ],
   "source": [
    "numeros_tuplas = (1,4,10,25) # tem uma lista de numeros imutaveis. Na tupla a lista nao se muda\n",
    "\n",
    "sum(numeros_tuplas)"
   ]
  },
  {
   "cell_type": "code",
   "execution_count": 107,
   "metadata": {},
   "outputs": [
    {
     "data": {
      "text/plain": [
       "{'nome': 'notebook', 'preço': 3000.0, 'fabricante': 'samsung'}"
      ]
     },
     "execution_count": 107,
     "metadata": {},
     "output_type": "execute_result"
    }
   ],
   "source": [
    "# funcao multiplos parametros nomeados **parametros\n",
    "\n",
    "def gerar_produto (**parametros): # quando é duas ** eu passo parametros do produto\n",
    "    produto = parametros\n",
    "    return produto\n",
    "\n",
    "\n",
    "gerar_produto(nome=\"notebook\",preço=3000.00, fabricante='samsung') # eu devo informar os parametros e o valor de cada um deles\n",
    "\n"
   ]
  },
  {
   "cell_type": "code",
   "execution_count": 115,
   "metadata": {},
   "outputs": [
    {
     "name": "stdout",
     "output_type": "stream",
     "text": [
      "120\n"
     ]
    }
   ],
   "source": [
    "# funcoes fatorial convencional\n",
    "\n",
    "def calcula_fatorial2(numero):\n",
    "    if numero == 0 or numero == 1:\n",
    "        return 1\n",
    "    else:\n",
    "        return numero *  calcula_fatorial2(numero-1)\n",
    "\n",
    "print(calcula_fatorial2(5))\n",
    "   "
   ]
  },
  {
   "cell_type": "code",
   "execution_count": 117,
   "metadata": {},
   "outputs": [
    {
     "data": {
      "text/plain": [
       "120"
      ]
     },
     "execution_count": 117,
     "metadata": {},
     "output_type": "execute_result"
    }
   ],
   "source": [
    "# funcoes fatorial convencional\n",
    "\n",
    "def calcula_fatorial(numero):\n",
    "    resultado = 1\n",
    "    for i in range(1, numero + 1):\n",
    "        resultado *= i\n",
    "    return resultado\n",
    "\n",
    "calcula_fatorial(5)"
   ]
  }
 ],
 "metadata": {
  "interpreter": {
   "hash": "023695796a0456db28915f727eb64cb942055160ea749933aa044f2070f70f3a"
  },
  "kernelspec": {
   "display_name": "Python 3.12.5 64-bit (windows store)",
   "language": "python",
   "name": "python3"
  },
  "language_info": {
   "codemirror_mode": {
    "name": "ipython",
    "version": 3
   },
   "file_extension": ".py",
   "mimetype": "text/x-python",
   "name": "python",
   "nbconvert_exporter": "python",
   "pygments_lexer": "ipython3",
   "version": "3.12.5"
  },
  "orig_nbformat": 4
 },
 "nbformat": 4,
 "nbformat_minor": 2
}
