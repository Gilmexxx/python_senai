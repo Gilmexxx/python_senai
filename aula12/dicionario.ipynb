{
 "cells": [
  {
   "cell_type": "markdown",
   "metadata": {},
   "source": [
    "# Dicionario ( {} )\n",
    "\n",
    "É um conjunto de chaves e valores que destinguem um objeto. Estas chaves nos chamamos de KYES e seus valores de VALUES.\n",
    "É um tipo especial de variavel python identificada pelas ( {} )\n"
   ]
  },
  {
   "cell_type": "code",
   "execution_count": 98,
   "metadata": {},
   "outputs": [
    {
     "name": "stdout",
     "output_type": "stream",
     "text": [
      "{'idade': 43, 'cidade': 'Sao Paulo'}\n"
     ]
    }
   ],
   "source": [
    "# Dicionario para uma variavel pessoa\n",
    "# Dicionario é tudo que esta dentro de chaves{}\n",
    "\n",
    "pessoa = {\n",
    "    'idade': 'Gilmar',\n",
    "    'idade' : 43,\n",
    "    'cidade': 'Sao Paulo'\n",
    "}\n",
    "\n",
    "print(pessoa) # o print me retorna o dicionario pessoa"
   ]
  },
  {
   "cell_type": "code",
   "execution_count": 99,
   "metadata": {},
   "outputs": [
    {
     "data": {
      "text/plain": [
       "dict_keys(['idade', 'cidade'])"
      ]
     },
     "execution_count": 99,
     "metadata": {},
     "output_type": "execute_result"
    }
   ],
   "source": [
    "# Metodo KEYS() - retorna as chaves\n",
    "\n",
    "pessoa.keys() # no jupter eu nao preciso printar pois ele ja me retorna. No python eu precisar printar print(pessoa.keys)\n",
    "\n"
   ]
  },
  {
   "cell_type": "code",
   "execution_count": 100,
   "metadata": {},
   "outputs": [
    {
     "data": {
      "text/plain": [
       "dict_values([43, 'Sao Paulo'])"
      ]
     },
     "execution_count": 100,
     "metadata": {},
     "output_type": "execute_result"
    }
   ],
   "source": [
    "# Metodo VALUES() - retorna os valores\n",
    "\n",
    "pessoa.values()"
   ]
  },
  {
   "cell_type": "code",
   "execution_count": 101,
   "metadata": {},
   "outputs": [
    {
     "data": {
      "text/plain": [
       "(43, 'Sao Paulo')"
      ]
     },
     "execution_count": 101,
     "metadata": {},
     "output_type": "execute_result"
    }
   ],
   "source": [
    "# Metodo VALUES() - especifico de um dicionario\n",
    "\n",
    "pessoa['idade'], pessoa['cidade']"
   ]
  },
  {
   "cell_type": "code",
   "execution_count": 102,
   "metadata": {},
   "outputs": [
    {
     "name": "stdout",
     "output_type": "stream",
     "text": [
      "{'idade': 43, 'cidade': 'Sao Paulo'}\n",
      "{'idade': 43, 'cidade': 'Brasilia'}\n"
     ]
    }
   ],
   "source": [
    "# Atribuindo um novo valor a uma chave\n",
    "\n",
    "print(pessoa)\n",
    "pessoa['cidade'] = 'Brasilia'\n",
    "\n",
    "print(pessoa)"
   ]
  },
  {
   "cell_type": "code",
   "execution_count": 103,
   "metadata": {},
   "outputs": [
    {
     "name": "stdout",
     "output_type": "stream",
     "text": [
      "{'idade': 43, 'cidade': 'Brasilia', 'email': 'gilmarsilvadf@gmail.com'}\n"
     ]
    }
   ],
   "source": [
    "# Adicionando uma nova CHAVE com VALOR ao dicionario\n",
    "\n",
    "pessoa['email'] = 'gilmarsilvadf@gmail.com'\n",
    "print(pessoa)\n"
   ]
  },
  {
   "cell_type": "code",
   "execution_count": 104,
   "metadata": {},
   "outputs": [
    {
     "name": "stdout",
     "output_type": "stream",
     "text": [
      "Antes da modificação: {'nome': 'João', 'idade': 30, 'cidade': 'São Paulo'}\n",
      "Depois da modificação: {'nome': 'João', 'idade': 30, 'cidade': 'Brasilia'}\n",
      "Depois da modificação: {'nome': 'João', 'idade': 30, 'cidade': 'Rio de Janeiro'}\n",
      "Depois da modificação: {'nome': 'João', 'idade': 30, 'cidade': 'Salvador'}\n"
     ]
    }
   ],
   "source": [
    "# Dicionário inicial\n",
    "pessoa = {\n",
    "    'nome': 'João',\n",
    "    'idade': 30,\n",
    "    'cidade': 'São Paulo'\n",
    "}\n",
    "\n",
    "print(\"Antes da modificação:\", pessoa)\n",
    "\n",
    "# Lista de novas cidades\n",
    "novas_cidades = ['Brasilia', 'Rio de Janeiro', 'Salvador']\n",
    "\n",
    "# Laço para trocar o valor da chave 'cidade'\n",
    "for cidade in novas_cidades:\n",
    "    pessoa['cidade'] = cidade\n",
    "    print(\"Depois da modificação:\", pessoa)"
   ]
  },
  {
   "cell_type": "code",
   "execution_count": 105,
   "metadata": {},
   "outputs": [
    {
     "name": "stdout",
     "output_type": "stream",
     "text": [
      "{'nome': 'João'}\n"
     ]
    }
   ],
   "source": [
    "# Excluindo uma chave e seu valor\n",
    "\n",
    "del pessoa['idade'] # pode excluir especificando a chave \n",
    "\n",
    "pessoa.pop('cidade') # ou pode excluir por metodo no caso pop() exclui o ultimo\n",
    "\n",
    "print(pessoa)"
   ]
  },
  {
   "cell_type": "code",
   "execution_count": 106,
   "metadata": {},
   "outputs": [
    {
     "name": "stdout",
     "output_type": "stream",
     "text": [
      "[{'nome': 'Daniel', 'cidade': 'Bahia'}, {'nome': 'Marcos', 'cidade': 'Sao paulo'}, {'nome': 'Luana', 'cidade': 'Belo horizonte'}, {'nome': 'Francineide', 'cidade': 'Rio de janeiro'}]\n",
      "0 {'nome': 'Daniel', 'cidade': 'Bahia'}\n",
      "1 {'nome': 'Marcos', 'cidade': 'Sao paulo'}\n",
      "2 {'nome': 'Luana', 'cidade': 'Belo horizonte'}\n",
      "3 {'nome': 'Francineide', 'cidade': 'Rio de janeiro'}\n"
     ]
    }
   ],
   "source": [
    "#  temos uma lista[] com varios dicionarios {} onde cada dicionario é um indice começando do zero( 0 )\n",
    "\n",
    "alunos = [\n",
    "    {'nome': 'Daniel', 'cidade': 'Bahia'},\n",
    "    {'nome': 'Marcos', 'cidade': 'Sao paulo'},\n",
    "    {'nome': 'Luana', 'cidade': 'Belo horizonte'},\n",
    "    {'nome': 'Francineide','cidade': 'Rio de janeiro'},\n",
    "    \n",
    "]\n",
    "\n",
    "print(alunos) # print em linha\n",
    "\n",
    "for indice, aluno in enumerate(alunos): # printado lista enumerando pelo indice\n",
    "    print(indice, aluno)\n",
    "\n"
   ]
  },
  {
   "cell_type": "code",
   "execution_count": 116,
   "metadata": {},
   "outputs": [
    {
     "name": "stdout",
     "output_type": "stream",
     "text": [
      "{'nome': 'Luana', 'cidade': 'Belo horizonte'}\n",
      "Belo horizonte\n"
     ]
    }
   ],
   "source": [
    "print(alunos[2]) # imprime o indice da lista 2 - lembrando que a lista sempre começa com 0 zero\n",
    "\n",
    "print(alunos[2]['cidade'])"
   ]
  },
  {
   "cell_type": "code",
   "execution_count": 121,
   "metadata": {},
   "outputs": [
    {
     "name": "stdout",
     "output_type": "stream",
     "text": [
      "{'matricula': '123', 'escolaridade': 'superior'}\n"
     ]
    }
   ],
   "source": [
    "#  temos um dicionarios {} com varias chaves KEYS e seus valores VALUES\n",
    "\n",
    "\n",
    "alunos_dicionario = {\n",
    "    'Daniel': {'matricula': '123' ,'escolaridade': 'superior'},\n",
    "    'Luana': {'matricula': '321' ,'escolaridade': 'superior'},\n",
    "    'Gilmar': {'matricula': '4456' ,'escolaridade': 'superior'},\n",
    "    'Felipe': {'matricula': '479' ,'escolaridade': 'superior'},\n",
    "}\n",
    "\n",
    "print(alunos_dicionario['Daniel']) # Neste caso eu so posso print a chave especifica"
   ]
  }
 ],
 "metadata": {
  "interpreter": {
   "hash": "023695796a0456db28915f727eb64cb942055160ea749933aa044f2070f70f3a"
  },
  "kernelspec": {
   "display_name": "Python 3.12.5 64-bit (windows store)",
   "language": "python",
   "name": "python3"
  },
  "language_info": {
   "codemirror_mode": {
    "name": "ipython",
    "version": 3
   },
   "file_extension": ".py",
   "mimetype": "text/x-python",
   "name": "python",
   "nbconvert_exporter": "python",
   "pygments_lexer": "ipython3",
   "version": "3.12.5"
  },
  "orig_nbformat": 4
 },
 "nbformat": 4,
 "nbformat_minor": 2
}
